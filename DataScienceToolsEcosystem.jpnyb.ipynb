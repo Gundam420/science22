{
 "cells": [
  {
   "cell_type": "markdown",
   "id": "c23e0ba4",
   "metadata": {},
   "source": [
    "# data science tools and ecosystem\n"
   ]
  },
  {
   "cell_type": "markdown",
   "id": "2d738f22",
   "metadata": {},
   "source": [
    "this is my intro to data science tools and eyostems\n"
   ]
  },
  {
   "cell_type": "markdown",
   "id": "6b84c768",
   "metadata": {},
   "source": [
    "some of the popular languages that data science are :\n",
    "1. R\n",
    "2. SQL\n",
    "3. phyton\n"
   ]
  },
  {
   "cell_type": "markdown",
   "id": "83f3db33",
   "metadata": {},
   "source": [
    "**objective**"
   ]
  },
  {
   "cell_type": "markdown",
   "id": "ca561cd4",
   "metadata": {},
   "source": [
    "this popular languages that data science are :\n",
    "- R\n",
    "- SQL\n",
    "- Python"
   ]
  },
  {
   "cell_type": "markdown",
   "id": "b438b930",
   "metadata": {},
   "source": [
    "common data science libaries are:"
   ]
  },
  {
   "cell_type": "markdown",
   "id": "2d6dfb89",
   "metadata": {},
   "source": [
    "1. pandas\n",
    "2. numpy\n",
    "3. tensorflow\n"
   ]
  },
  {
   "cell_type": "markdown",
   "id": "ba4eafad",
   "metadata": {},
   "source": [
    " | data science |\n",
    " |------------- |\n",
    " |Git           |\n",
    " |atom          |\n",
    " |Gitlab        |\n",
    " |\n",
    " "
   ]
  },
  {
   "cell_type": "markdown",
   "id": "9b345625",
   "metadata": {},
   "source": [
    "### below are a few example of evaluating arithmatric expression  in python"
   ]
  },
  {
   "cell_type": "code",
   "execution_count": 7,
   "id": "8a90137e",
   "metadata": {},
   "outputs": [
    {
     "data": {
      "text/plain": [
       "17"
      ]
     },
     "execution_count": 7,
     "metadata": {},
     "output_type": "execute_result"
    }
   ],
   "source": [
    "(3*4)+5"
   ]
  },
  {
   "cell_type": "code",
   "execution_count": 8,
   "id": "8b009093",
   "metadata": {},
   "outputs": [
    {
     "data": {
      "text/plain": [
       "3.3333333333333335"
      ]
     },
     "execution_count": 8,
     "metadata": {},
     "output_type": "execute_result"
    }
   ],
   "source": [
    " (200/60)"
   ]
  },
  {
   "cell_type": "markdown",
   "id": "321b1598",
   "metadata": {},
   "source": [
    "## Author\n",
    "derek ferretti"
   ]
  }
 ],
 "metadata": {
  "kernelspec": {
   "display_name": "Python 3 (ipykernel)",
   "language": "python",
   "name": "python3"
  },
  "language_info": {
   "codemirror_mode": {
    "name": "ipython",
    "version": 3
   },
   "file_extension": ".py",
   "mimetype": "text/x-python",
   "name": "python",
   "nbconvert_exporter": "python",
   "pygments_lexer": "ipython3",
   "version": "3.11.2"
  }
 },
 "nbformat": 4,
 "nbformat_minor": 5
}
